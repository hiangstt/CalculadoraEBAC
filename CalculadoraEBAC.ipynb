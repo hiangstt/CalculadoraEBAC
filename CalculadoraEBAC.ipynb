{
  "nbformat": 4,
  "nbformat_minor": 0,
  "metadata": {
    "colab": {
      "provenance": [],
      "authorship_tag": "ABX9TyPvP6H9ZMPdKQ5AIqfuglbG",
      "include_colab_link": true
    },
    "kernelspec": {
      "name": "python3",
      "display_name": "Python 3"
    },
    "language_info": {
      "name": "python"
    }
  },
  "cells": [
    {
      "cell_type": "markdown",
      "metadata": {
        "id": "view-in-github",
        "colab_type": "text"
      },
      "source": [
        "<a href=\"https://colab.research.google.com/github/hiangstt/CalculadoraEBAC/blob/main/CalculadoraEBAC.ipynb\" target=\"_parent\"><img src=\"https://colab.research.google.com/assets/colab-badge.svg\" alt=\"Open In Colab\"/></a>"
      ]
    },
    {
      "source": [
        "OpcaoMenu = 0\n",
        "PrimeiroNumero = 0\n",
        "SegundoNumero = 0\n",
        "Media = 0\n",
        "MaiorNumero = 0\n",
        "PrimeiroNumero = int(input('Digite o primeiro numero:'))\n",
        "SegundoNumero = int(input('Digite o segundo numero:'))\n",
        "\n",
        "\n",
        "while True:\n",
        "    print('Selecione a operação a ser realizada')\n",
        "    print('\\n1 - Somar numeros')\n",
        "    print('\\n2 - Multiplicar numeros')\n",
        "    print('\\n3 - Média dos numeros')\n",
        "    print('\\n4 - Maior numero')\n",
        "    print('\\n5 - Sair')\n",
        "\n",
        "    OpcaoMenu = int(input('Digite o numero da opcao desejada: '))\n",
        "\n",
        "    if OpcaoMenu == 1:\n",
        "        print(PrimeiroNumero + SegundoNumero)\n",
        "    elif OpcaoMenu == 2:\n",
        "        print(PrimeiroNumero * SegundoNumero)\n",
        "    elif OpcaoMenu == 3:\n",
        "        Media = (PrimeiroNumero + SegundoNumero) / 2\n",
        "        print(Media)\n",
        "    elif OpcaoMenu == 4:\n",
        "        if PrimeiroNumero > SegundoNumero:\n",
        "            print(PrimeiroNumero)\n",
        "        else:\n",
        "            print(SegundoNumero)\n",
        "    elif OpcaoMenu == 5:\n",
        "        break\n",
        "    else:\n",
        "        print('Opção inválida. Tente novamente.')"
      ],
      "cell_type": "code",
      "metadata": {
        "colab": {
          "base_uri": "https://localhost:8080/",
          "height": 491
        },
        "id": "9lV4dTKolKZs",
        "outputId": "570a838f-86d4-4199-8560-b016b1263d58"
      },
      "execution_count": 3,
      "outputs": [
        {
          "output_type": "stream",
          "name": "stdout",
          "text": [
            "Digite o primeiro numero:5\n",
            "Digite o segundo numero:55\n",
            "Selecione a operação a ser realizada\n",
            "\n",
            "1 - Somar numeros\n",
            "\n",
            "2 - Multiplicar numeros\n",
            "\n",
            "3 - Média dos numeros\n",
            "\n",
            "4 - Maior numero\n",
            "\n",
            "5 - Sair\n",
            "Digite o numero da opcao desejada: 1\n",
            "60\n"
          ]
        },
        {
          "output_type": "error",
          "ename": "NameError",
          "evalue": "name 'system' is not defined",
          "traceback": [
            "\u001b[0;31m---------------------------------------------------------------------------\u001b[0m",
            "\u001b[0;31mNameError\u001b[0m                                 Traceback (most recent call last)",
            "\u001b[0;32m<ipython-input-3-c217feb1ec32>\u001b[0m in \u001b[0;36m<cell line: 10>\u001b[0;34m()\u001b[0m\n\u001b[1;32m     20\u001b[0m     \u001b[0;32mif\u001b[0m \u001b[0mOpcaoMenu\u001b[0m \u001b[0;34m==\u001b[0m \u001b[0;36m1\u001b[0m\u001b[0;34m:\u001b[0m\u001b[0;34m\u001b[0m\u001b[0;34m\u001b[0m\u001b[0m\n\u001b[1;32m     21\u001b[0m         \u001b[0mprint\u001b[0m\u001b[0;34m(\u001b[0m\u001b[0mPrimeiroNumero\u001b[0m \u001b[0;34m+\u001b[0m \u001b[0mSegundoNumero\u001b[0m\u001b[0;34m)\u001b[0m\u001b[0;34m\u001b[0m\u001b[0;34m\u001b[0m\u001b[0m\n\u001b[0;32m---> 22\u001b[0;31m         \u001b[0msystem\u001b[0m\u001b[0;34m(\u001b[0m\u001b[0;34m\"pause\"\u001b[0m\u001b[0;34m)\u001b[0m\u001b[0;34m\u001b[0m\u001b[0;34m\u001b[0m\u001b[0m\n\u001b[0m\u001b[1;32m     23\u001b[0m     \u001b[0;32melif\u001b[0m \u001b[0mOpcaoMenu\u001b[0m \u001b[0;34m==\u001b[0m \u001b[0;36m2\u001b[0m\u001b[0;34m:\u001b[0m\u001b[0;34m\u001b[0m\u001b[0;34m\u001b[0m\u001b[0m\n\u001b[1;32m     24\u001b[0m         \u001b[0mprint\u001b[0m\u001b[0;34m(\u001b[0m\u001b[0mPrimeiroNumero\u001b[0m \u001b[0;34m*\u001b[0m \u001b[0mSegundoNumero\u001b[0m\u001b[0;34m)\u001b[0m\u001b[0;34m\u001b[0m\u001b[0;34m\u001b[0m\u001b[0m\n",
            "\u001b[0;31mNameError\u001b[0m: name 'system' is not defined"
          ]
        }
      ]
    },
    {
      "source": [
        "import os\n",
        "\n",
        "OpcaoMenu = 0\n",
        "PrimeiroNumero = 0\n",
        "SegundoNumero = 0\n",
        "Media = 0\n",
        "MaiorNumero = 0\n",
        "PrimeiroNumero = int(input('Digite o primeiro numero:'))\n",
        "SegundoNumero = int(input('Digite o segundo numero:'))\n",
        "\n",
        "\n",
        "while True:\n",
        "    print('Selecione a operação a ser realizada')\n",
        "    print('\\n1 - Somar numeros')\n",
        "    print('\\n2 - Multiplicar numeros')\n",
        "    print('\\n3 - Média dos numeros')\n",
        "    print('\\n4 - Maior numero')\n",
        "    print('\\n5 - Sair')\n",
        "\n",
        "    OpcaoMenu = int(input('Digite o numero da opcao desejada: '))\n",
        "\n",
        "    if OpcaoMenu == 1:\n",
        "        print(PrimeiroNumero + SegundoNumero)\n",
        "        os.system(\"pause\") # Changed 'system' to 'os.system'\n",
        "    elif OpcaoMenu == 2:\n",
        "        print(PrimeiroNumero * SegundoNumero)\n",
        "        os.system(\"pause\") # Changed 'system' to 'os.system'\n",
        "    elif OpcaoMenu == 3:\n",
        "        Media = (PrimeiroNumero + SegundoNumero) / 2\n",
        "        print(Media)\n",
        "        os.system(\"pause\") # Changed 'system' to 'os.system'\n",
        "    elif OpcaoMenu == 4:\n",
        "        if PrimeiroNumero > SegundoNumero:\n",
        "            print(PrimeiroNumero)\n",
        "            os.system(\"pause\") # Changed 'system' to 'os.system'\n",
        "        else:\n",
        "            print(SegundoNumero)\n",
        "            os.system(\"pause\") # Changed 'system' to 'os.system'\n",
        "    elif OpcaoMenu == 5:\n",
        "        break\n",
        "    else:\n",
        "        print('Opção inválida. Tente novamente.')"
      ],
      "cell_type": "code",
      "metadata": {
        "colab": {
          "base_uri": "https://localhost:8080/",
          "height": 1000
        },
        "id": "lWsSgt2rLhvW",
        "outputId": "ea98a7f1-3b72-4512-d9d8-8b84e46a6c8a"
      },
      "execution_count": 4,
      "outputs": [
        {
          "output_type": "stream",
          "name": "stdout",
          "text": [
            "Digite o primeiro numero:55\n",
            "Digite o segundo numero:145\n",
            "Selecione a operação a ser realizada\n",
            "\n",
            "1 - Somar numeros\n",
            "\n",
            "2 - Multiplicar numeros\n",
            "\n",
            "3 - Média dos numeros\n",
            "\n",
            "4 - Maior numero\n",
            "\n",
            "5 - Sair\n",
            "Digite o numero da opcao desejada: 1\n",
            "200\n",
            "Selecione a operação a ser realizada\n",
            "\n",
            "1 - Somar numeros\n",
            "\n",
            "2 - Multiplicar numeros\n",
            "\n",
            "3 - Média dos numeros\n",
            "\n",
            "4 - Maior numero\n",
            "\n",
            "5 - Sair\n",
            "Digite o numero da opcao desejada: 6\n",
            "Opção inválida. Tente novamente.\n",
            "Selecione a operação a ser realizada\n",
            "\n",
            "1 - Somar numeros\n",
            "\n",
            "2 - Multiplicar numeros\n",
            "\n",
            "3 - Média dos numeros\n",
            "\n",
            "4 - Maior numero\n",
            "\n",
            "5 - Sair\n"
          ]
        },
        {
          "output_type": "error",
          "ename": "KeyboardInterrupt",
          "evalue": "Interrupted by user",
          "traceback": [
            "\u001b[0;31m---------------------------------------------------------------------------\u001b[0m",
            "\u001b[0;31mKeyboardInterrupt\u001b[0m                         Traceback (most recent call last)",
            "\u001b[0;32m<ipython-input-4-d023310d512d>\u001b[0m in \u001b[0;36m<cell line: 12>\u001b[0;34m()\u001b[0m\n\u001b[1;32m     18\u001b[0m     \u001b[0mprint\u001b[0m\u001b[0;34m(\u001b[0m\u001b[0;34m'\\n5 - Sair'\u001b[0m\u001b[0;34m)\u001b[0m\u001b[0;34m\u001b[0m\u001b[0;34m\u001b[0m\u001b[0m\n\u001b[1;32m     19\u001b[0m \u001b[0;34m\u001b[0m\u001b[0m\n\u001b[0;32m---> 20\u001b[0;31m     \u001b[0mOpcaoMenu\u001b[0m \u001b[0;34m=\u001b[0m \u001b[0mint\u001b[0m\u001b[0;34m(\u001b[0m\u001b[0minput\u001b[0m\u001b[0;34m(\u001b[0m\u001b[0;34m'Digite o numero da opcao desejada: '\u001b[0m\u001b[0;34m)\u001b[0m\u001b[0;34m)\u001b[0m\u001b[0;34m\u001b[0m\u001b[0;34m\u001b[0m\u001b[0m\n\u001b[0m\u001b[1;32m     21\u001b[0m \u001b[0;34m\u001b[0m\u001b[0m\n\u001b[1;32m     22\u001b[0m     \u001b[0;32mif\u001b[0m \u001b[0mOpcaoMenu\u001b[0m \u001b[0;34m==\u001b[0m \u001b[0;36m1\u001b[0m\u001b[0;34m:\u001b[0m\u001b[0;34m\u001b[0m\u001b[0;34m\u001b[0m\u001b[0m\n",
            "\u001b[0;32m/usr/local/lib/python3.10/dist-packages/ipykernel/kernelbase.py\u001b[0m in \u001b[0;36mraw_input\u001b[0;34m(self, prompt)\u001b[0m\n\u001b[1;32m    849\u001b[0m                 \u001b[0;34m\"raw_input was called, but this frontend does not support input requests.\"\u001b[0m\u001b[0;34m\u001b[0m\u001b[0;34m\u001b[0m\u001b[0m\n\u001b[1;32m    850\u001b[0m             )\n\u001b[0;32m--> 851\u001b[0;31m         return self._input_request(str(prompt),\n\u001b[0m\u001b[1;32m    852\u001b[0m             \u001b[0mself\u001b[0m\u001b[0;34m.\u001b[0m\u001b[0m_parent_ident\u001b[0m\u001b[0;34m,\u001b[0m\u001b[0;34m\u001b[0m\u001b[0;34m\u001b[0m\u001b[0m\n\u001b[1;32m    853\u001b[0m             \u001b[0mself\u001b[0m\u001b[0;34m.\u001b[0m\u001b[0m_parent_header\u001b[0m\u001b[0;34m,\u001b[0m\u001b[0;34m\u001b[0m\u001b[0;34m\u001b[0m\u001b[0m\n",
            "\u001b[0;32m/usr/local/lib/python3.10/dist-packages/ipykernel/kernelbase.py\u001b[0m in \u001b[0;36m_input_request\u001b[0;34m(self, prompt, ident, parent, password)\u001b[0m\n\u001b[1;32m    893\u001b[0m             \u001b[0;32mexcept\u001b[0m \u001b[0mKeyboardInterrupt\u001b[0m\u001b[0;34m:\u001b[0m\u001b[0;34m\u001b[0m\u001b[0;34m\u001b[0m\u001b[0m\n\u001b[1;32m    894\u001b[0m                 \u001b[0;31m# re-raise KeyboardInterrupt, to truncate traceback\u001b[0m\u001b[0;34m\u001b[0m\u001b[0;34m\u001b[0m\u001b[0m\n\u001b[0;32m--> 895\u001b[0;31m                 \u001b[0;32mraise\u001b[0m \u001b[0mKeyboardInterrupt\u001b[0m\u001b[0;34m(\u001b[0m\u001b[0;34m\"Interrupted by user\"\u001b[0m\u001b[0;34m)\u001b[0m \u001b[0;32mfrom\u001b[0m \u001b[0;32mNone\u001b[0m\u001b[0;34m\u001b[0m\u001b[0;34m\u001b[0m\u001b[0m\n\u001b[0m\u001b[1;32m    896\u001b[0m             \u001b[0;32mexcept\u001b[0m \u001b[0mException\u001b[0m \u001b[0;32mas\u001b[0m \u001b[0me\u001b[0m\u001b[0;34m:\u001b[0m\u001b[0;34m\u001b[0m\u001b[0;34m\u001b[0m\u001b[0m\n\u001b[1;32m    897\u001b[0m                 \u001b[0mself\u001b[0m\u001b[0;34m.\u001b[0m\u001b[0mlog\u001b[0m\u001b[0;34m.\u001b[0m\u001b[0mwarning\u001b[0m\u001b[0;34m(\u001b[0m\u001b[0;34m\"Invalid Message:\"\u001b[0m\u001b[0;34m,\u001b[0m \u001b[0mexc_info\u001b[0m\u001b[0;34m=\u001b[0m\u001b[0;32mTrue\u001b[0m\u001b[0;34m)\u001b[0m\u001b[0;34m\u001b[0m\u001b[0;34m\u001b[0m\u001b[0m\n",
            "\u001b[0;31mKeyboardInterrupt\u001b[0m: Interrupted by user"
          ]
        }
      ]
    }
  ]
}