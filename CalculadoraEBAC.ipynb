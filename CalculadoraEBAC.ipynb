{
  "nbformat": 4,
  "nbformat_minor": 0,
  "metadata": {
    "colab": {
      "provenance": [],
      "authorship_tag": "ABX9TyOMRjRgrQti/9jDlniujXsN",
      "include_colab_link": true
    },
    "kernelspec": {
      "name": "python3",
      "display_name": "Python 3"
    },
    "language_info": {
      "name": "python"
    }
  },
  "cells": [
    {
      "cell_type": "markdown",
      "metadata": {
        "id": "view-in-github",
        "colab_type": "text"
      },
      "source": [
        "<a href=\"https://colab.research.google.com/github/hiangstt/CalculadoraEBAC/blob/main/CalculadoraEBAC.ipynb\" target=\"_parent\"><img src=\"https://colab.research.google.com/assets/colab-badge.svg\" alt=\"Open In Colab\"/></a>"
      ]
    },
    {
      "source": [
        "OpcaoMenu = 0\n",
        "PrimeiroNumero = 0\n",
        "SegundoNumero = 0\n",
        "Media = 0\n",
        "MaiorNumero = 0\n",
        "PrimeiroNumero = int(input('Digite o primeiro numero:'))\n",
        "SegundoNumero = int(input('Digite o segundo numero:'))\n",
        "\n",
        "\n",
        "while True:\n",
        "    print('Selecione a operação a ser realizada')\n",
        "    print('\\n1 - Somar numeros')\n",
        "    print('\\n2 - Multiplicar numeros')\n",
        "    print('\\n3 - Média dos numeros')\n",
        "    print('\\n4 - Maior numero')\n",
        "    print('\\n5 - Sair')\n",
        "\n",
        "    OpcaoMenu = int(input('Digite o numero da opcao desejada: '))\n",
        "\n",
        "    if OpcaoMenu == 1:\n",
        "        print(PrimeiroNumero + SegundoNumero)\n",
        "    elif OpcaoMenu == 2:\n",
        "        print(PrimeiroNumero * SegundoNumero)\n",
        "    elif OpcaoMenu == 3:\n",
        "        Media = (PrimeiroNumero + SegundoNumero) / 2\n",
        "        print(Media)\n",
        "    elif OpcaoMenu == 4:\n",
        "        if PrimeiroNumero > SegundoNumero:\n",
        "            print(PrimeiroNumero)\n",
        "        else:\n",
        "            print(SegundoNumero)\n",
        "    elif OpcaoMenu == 5:\n",
        "        break\n",
        "    else:\n",
        "        print('Opção inválida. Tente novamente.')"
      ],
      "cell_type": "code",
      "metadata": {
        "id": "9lV4dTKolKZs"
      },
      "execution_count": null,
      "outputs": []
    }
  ]
}